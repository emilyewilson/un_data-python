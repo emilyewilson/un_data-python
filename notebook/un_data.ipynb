{
 "cells": [
  {
   "cell_type": "code",
   "execution_count": null,
   "id": "28a8118d",
   "metadata": {},
   "outputs": [],
   "source": [
    "import pandas as pd \n",
    "import numpy as np  \n",
    "import matplotlib.pyplot as plt  \n",
    "import seaborn as sns\n"
   ]
  },
  {
   "cell_type": "markdown",
   "id": "0d842556",
   "metadata": {},
   "source": [
    "Question 4\n",
    "Using the pandas `read_csv()` method, read the GDP dataset into your notebook as a DataFrame called `gdp_df`. Take a look at the first few and last few rows to familiarize yourself with what is contained in this dataset."
   ]
  },
  {
   "cell_type": "code",
   "execution_count": null,
   "id": "1ee702e4",
   "metadata": {
    "scrolled": false
   },
   "outputs": [],
   "source": [
    "gdp_df = pd.read_csv('../data/gdp_percapita.csv')\n",
    "gdp_df"
   ]
  },
  {
   "cell_type": "markdown",
   "id": "e30c49bb",
   "metadata": {},
   "source": [
    "Question 5\n",
    "How many rows and columns are in `gdp_df`? What are the data types of each column?"
   ]
  },
  {
   "cell_type": "code",
   "execution_count": null,
   "id": "7cea6d8f",
   "metadata": {},
   "outputs": [],
   "source": [
    "gdp_df.shape"
   ]
  },
  {
   "cell_type": "code",
   "execution_count": null,
   "id": "b80ff4ca",
   "metadata": {
    "scrolled": false
   },
   "outputs": [],
   "source": [
    "datatypes = gdp_df.dtypes\n",
    "datatypes"
   ]
  },
  {
   "cell_type": "markdown",
   "id": "1239445f",
   "metadata": {},
   "source": [
    "Question 6\n",
    "Drop the `Value Footnotes` column and rename the remaining three to 'Country', 'Year', and 'GDP_Per_Capita'."
   ]
  },
  {
   "cell_type": "code",
   "execution_count": null,
   "id": "7b348152",
   "metadata": {
    "scrolled": true
   },
   "outputs": [],
   "source": [
    "gdp_df = gdp_df.drop(columns = ['Value Footnotes'])\n",
    "gdp_df"
   ]
  },
  {
   "cell_type": "code",
   "execution_count": null,
   "id": "c2af3aaa",
   "metadata": {},
   "outputs": [],
   "source": [
    "gdp_df = gdp_df.rename(columns = {'Country or Area' : 'Country', \"Value\" : 'GDP_Per_Capita'})\n",
    "gdp_df"
   ]
  },
  {
   "cell_type": "code",
   "execution_count": null,
   "id": "6b386a1c",
   "metadata": {},
   "outputs": [],
   "source": [
    "gdp_countries = gdp_df.Country.value_counts()\n",
    "gdp_countries"
   ]
  },
  {
   "cell_type": "code",
   "execution_count": null,
   "id": "5c55c961",
   "metadata": {},
   "outputs": [],
   "source": [
    "type(gdp_countries)"
   ]
  },
  {
   "cell_type": "code",
   "execution_count": null,
   "id": "073c8e4c",
   "metadata": {},
   "outputs": [],
   "source": [
    "gdp_countries = gdp_countries.to_frame()"
   ]
  },
  {
   "cell_type": "code",
   "execution_count": null,
   "id": "8d3e329d",
   "metadata": {},
   "outputs": [],
   "source": [
    "type(gdp_countries)"
   ]
  },
  {
   "cell_type": "code",
   "execution_count": null,
   "id": "7fd54436",
   "metadata": {},
   "outputs": [],
   "source": [
    "gdp_countries = gdp_countries.reset_index()\n",
    "gdp_countries"
   ]
  },
  {
   "cell_type": "code",
   "execution_count": null,
   "id": "218c2365",
   "metadata": {},
   "outputs": [],
   "source": [
    "gdp_countries.columns = ['Country', 'Years']\n",
    "gdp_countries.head()"
   ]
  },
  {
   "cell_type": "code",
   "execution_count": null,
   "id": "3621c891",
   "metadata": {
    "scrolled": true
   },
   "outputs": [],
   "source": [
    "gdp_countries.sort_values(by = 'Years', ascending = False)"
   ]
  },
  {
   "cell_type": "markdown",
   "id": "1f0e3d1c",
   "metadata": {},
   "source": [
    "Question 7\n",
    "How many countries have data for all years? Which countries are missing many years of data? Look at the number of observations per year. What do you notice? "
   ]
  },
  {
   "cell_type": "code",
   "execution_count": null,
   "id": "6ebd7895",
   "metadata": {
    "scrolled": true
   },
   "outputs": [],
   "source": [
    "countries_gdp_count=gdp_df.Country.value_counts().to_frame()\n",
    "countries_gdp_count"
   ]
  },
  {
   "cell_type": "code",
   "execution_count": null,
   "id": "e7bd4ae6",
   "metadata": {},
   "outputs": [],
   "source": [
    "gdp_countries = gdp_countries.reset_index()"
   ]
  },
  {
   "cell_type": "code",
   "execution_count": null,
   "id": "ff8e8e82",
   "metadata": {},
   "outputs": [],
   "source": [
    "count = len(gdp_countries[gdp_countries['Years'] == 31])\n",
    "count"
   ]
  },
  {
   "cell_type": "code",
   "execution_count": null,
   "id": "eb2cf6a9",
   "metadata": {},
   "outputs": [],
   "source": [
    "242 - 205"
   ]
  },
  {
   "cell_type": "code",
   "execution_count": null,
   "id": "3466fd1c",
   "metadata": {},
   "outputs": [],
   "source": [
    "len(gdp_countries[gdp_countries['Years'] != 31])"
   ]
  },
  {
   "cell_type": "markdown",
   "id": "6391a568",
   "metadata": {},
   "source": [
    "Question 8\n",
    "Show the distribution of GDP per capita for the year 2020. Create a histogram, a density plot, a boxplot, and a violin plot. What do you notice when you look at these plots? How do the plots compare and what information can you get out of one type that you can't necessarily get out of the others?"
   ]
  },
  {
   "cell_type": "code",
   "execution_count": null,
   "id": "9059048a",
   "metadata": {},
   "outputs": [],
   "source": [
    "gdp_df"
   ]
  },
  {
   "cell_type": "code",
   "execution_count": null,
   "id": "1da4d848",
   "metadata": {},
   "outputs": [],
   "source": [
    "gdp_2020 = gdp_df.loc[gdp_df['Year'] == 2020]\n",
    "gdp_2020"
   ]
  },
  {
   "cell_type": "code",
   "execution_count": null,
   "id": "42460634",
   "metadata": {},
   "outputs": [],
   "source": [
    "sns.violinplot(x= 'GDP_Per_Capita', y= 'Country', data = gdp_2020)"
   ]
  },
  {
   "cell_type": "code",
   "execution_count": null,
   "id": "2a0cfe09",
   "metadata": {},
   "outputs": [],
   "source": [
    "sns.kdeplot(gdp_2020['GDP_Per_Capita'])"
   ]
  },
  {
   "cell_type": "code",
   "execution_count": null,
   "id": "e4e9d616",
   "metadata": {},
   "outputs": [],
   "source": [
    "sns.distplot( a=gdp_2020[\"GDP_Per_Capita\"], hist=True, kde=False, rug=False )"
   ]
  },
  {
   "cell_type": "code",
   "execution_count": null,
   "id": "b48288ac",
   "metadata": {},
   "outputs": [],
   "source": [
    "sns.boxplot( x=gdp_2020[\"GDP_Per_Capita\"], y=gdp_2020[\"Country\"] )"
   ]
  },
  {
   "cell_type": "markdown",
   "id": "73234124",
   "metadata": {},
   "source": [
    "Question 9\n",
    "What was the median GDP per capita value in 2020?"
   ]
  },
  {
   "cell_type": "code",
   "execution_count": null,
   "id": "eb932b45",
   "metadata": {},
   "outputs": [],
   "source": [
    "median_gdp_2020 = gdp_2020['GDP_Per_Capita'].median()\n",
    "median_gdp_2020"
   ]
  },
  {
   "cell_type": "markdown",
   "id": "98b51b29",
   "metadata": {},
   "source": [
    "Question 10\n",
    "For this question, you're going to create some visualizations to compare GDP per capita values for the years 1990, 2000, 2010, and 2020. Comment on what you observe has happened to GDP values over time and the relative strengths and weaknesses of each type of plot."
   ]
  },
  {
   "cell_type": "code",
   "execution_count": null,
   "id": "20b17d17",
   "metadata": {},
   "outputs": [],
   "source": [
    "gdp_decades = gdp_df.loc[gdp_df['Year'].isin([1990, 2000, 2010, 2020])]\n",
    "gdp_decades"
   ]
  },
  {
   "cell_type": "code",
   "execution_count": null,
   "id": "816c6699",
   "metadata": {},
   "outputs": [],
   "source": [
    "sns.boxplot( x=gdp_decades[\"Year\"], y=gdp_decades[\"GDP_Per_Capita\"] )"
   ]
  },
  {
   "cell_type": "code",
   "execution_count": null,
   "id": "dc397fd6",
   "metadata": {},
   "outputs": [],
   "source": [
    "height = [120000]\n",
    "bars = (1990, 2000, 2010, 2020)\n",
    "y_pos = np.arange(len(bars))\n",
    "plt.bar(y_pos, height)\n",
    "plt.xticks(y_pos, bars)\n",
    "plt.show()"
   ]
  },
  {
   "cell_type": "code",
   "execution_count": null,
   "id": "675b4a15",
   "metadata": {},
   "outputs": [],
   "source": [
    "sns.regplot(x=gdp_decades[\"Year\"], y=gdp_decades[\"GDP_Per_Capita\"])"
   ]
  },
  {
   "cell_type": "markdown",
   "id": "9dc6009b",
   "metadata": {},
   "source": [
    "Question 11\n",
    "Which country was the first to have a GDP per capita greater than $100,000?"
   ]
  },
  {
   "cell_type": "code",
   "execution_count": null,
   "id": "3110ee32",
   "metadata": {},
   "outputs": [],
   "source": [
    "first_country = gdp_df.loc[gdp_df['GDP_Per_Capita']>100000]\n",
    "first_country.sort_values(by='Year', ascending=True)"
   ]
  },
  {
   "cell_type": "markdown",
   "id": "f822c310",
   "metadata": {},
   "source": [
    "Question 12\n",
    "Which country had the highest GDP per capita in 2020? Create a plot showing how this country's GDP per capita has changed over the timespan of the dataset."
   ]
  },
  {
   "cell_type": "code",
   "execution_count": null,
   "id": "019e4dbc",
   "metadata": {
    "scrolled": false
   },
   "outputs": [],
   "source": [
    "gdp_2020.max()"
   ]
  },
  {
   "cell_type": "code",
   "execution_count": null,
   "id": "21e0c540",
   "metadata": {},
   "outputs": [],
   "source": [
    "gdp_2020.sort_values(by=\"GDP_Per_Capita\", ascending=False)"
   ]
  },
  {
   "cell_type": "code",
   "execution_count": null,
   "id": "035a2ab7",
   "metadata": {},
   "outputs": [],
   "source": [
    "gdp_lux = gdp_df.loc[gdp_df['Country']=='Luxembourg']\n",
    "gdp_lux"
   ]
  },
  {
   "cell_type": "code",
   "execution_count": null,
   "id": "25dc2368",
   "metadata": {},
   "outputs": [],
   "source": [
    "plt.plot('Year', 'GDP_Per_Capita', data=gdp_lux)\n",
    "plt.xlabel('Year')\n",
    "plt.ylabel('GDP_Per_Capita')\n",
    "plt.title(\"GDP Luxembourg 1990-2020\")"
   ]
  },
  {
   "cell_type": "markdown",
   "id": "8061d159",
   "metadata": {},
   "source": [
    "Question 13\n",
    "Which country had the lowest GDP per capita in 2020? Create a plot showing how this country's GDP per capita has changed over the timespan of the dataset. **Bonus question:** Is it true in general that coutries had a higher GDP per capita in 2020 than in 1990? Which countries had lower GDP per capita in 2020 than in 1990?"
   ]
  },
  {
   "cell_type": "code",
   "execution_count": null,
   "id": "a38ccf4e",
   "metadata": {},
   "outputs": [],
   "source": [
    "gdp_2020.sort_values(by=\"GDP_Per_Capita\", ascending=True)"
   ]
  },
  {
   "cell_type": "code",
   "execution_count": null,
   "id": "a336ac7a",
   "metadata": {},
   "outputs": [],
   "source": [
    "gdp_bur = gdp_df.loc[gdp_df['Country']=='Burundi']\n",
    "gdp_bur"
   ]
  },
  {
   "cell_type": "code",
   "execution_count": null,
   "id": "dc4a6203",
   "metadata": {},
   "outputs": [],
   "source": [
    "plt.plot('Year', 'GDP_Per_Capita', data=gdp_bur)\n",
    "plt.xlabel('Year')\n",
    "plt.ylabel('GDP_Per_Capita')\n",
    "plt.title(\"GDP Burundi 1990-2020\")"
   ]
  },
  {
   "cell_type": "markdown",
   "id": "96455262",
   "metadata": {},
   "source": [
    "Question 14\n",
    "Read in the internet use dataset into a DataFrame named `internet_df`. Once you are able to read it in, take per a look at the top and bottom few rows to make sure that it has been read in correctly. Also, check the datatypes of the columns."
   ]
  },
  {
   "cell_type": "code",
   "execution_count": null,
   "id": "1daf331a",
   "metadata": {
    "scrolled": true
   },
   "outputs": [],
   "source": [
    "internet_df = pd.read_csv('../data/internet_use.csv',nrows=4495)\n",
    "internet_df"
   ]
  },
  {
   "cell_type": "code",
   "execution_count": null,
   "id": "60d18c53",
   "metadata": {},
   "outputs": [],
   "source": [
    "datatypes = internet_df.dtypes\n",
    "datatypes"
   ]
  },
  {
   "cell_type": "markdown",
   "id": "2b36d743",
   "metadata": {},
   "source": [
    "Question 15\n",
    "Drop the `Value Footnotes` column and rename the remaining three to 'Country', 'Year', and 'Internet_Users_Pct'."
   ]
  },
  {
   "cell_type": "code",
   "execution_count": null,
   "id": "f9366fad",
   "metadata": {
    "scrolled": true
   },
   "outputs": [],
   "source": [
    "internet_df = internet_df.drop(columns = ['Value Footnotes'])\n",
    "internet_df"
   ]
  },
  {
   "cell_type": "code",
   "execution_count": null,
   "id": "fced53da",
   "metadata": {},
   "outputs": [],
   "source": [
    "internet_df = internet_df.rename(columns = {'Country or Area' : 'Country', \"Value\" : 'Internet_Users_Pct'})\n",
    "internet_df"
   ]
  },
  {
   "cell_type": "markdown",
   "id": "07ca7c36",
   "metadata": {},
   "source": [
    "Question 16\n",
    "Look at the number of observations in this dataset per year. What do you notice?\n",
    "\n",
    "As the year increases, so does the amount of users in the country"
   ]
  },
  {
   "cell_type": "markdown",
   "id": "58866eb1",
   "metadata": {},
   "source": [
    "Question 17 \n",
    "What is the first year to have a non-zero internet users percentage value?"
   ]
  },
  {
   "cell_type": "code",
   "execution_count": null,
   "id": "998c708b",
   "metadata": {
    "scrolled": true
   },
   "outputs": [],
   "source": [
    "first_users = internet_df.loc[internet_df['Internet_Users_Pct']!=0.00]\n",
    "first_users.sort_values(by='Year', ascending=True)"
   ]
  },
  {
   "cell_type": "markdown",
   "id": "f797f85d",
   "metadata": {},
   "source": [
    "Question 18\n",
    "How does the distribution of internet users percent differ for 2000 and 2014?"
   ]
  },
  {
   "cell_type": "code",
   "execution_count": null,
   "id": "83350816",
   "metadata": {},
   "outputs": [],
   "source": [
    "internet_years = internet_df.loc[internet_df['Year'].isin([2000, 2014])]\n",
    "internet_years"
   ]
  },
  {
   "cell_type": "code",
   "execution_count": null,
   "id": "65fd91bf",
   "metadata": {},
   "outputs": [],
   "source": [
    "sns.boxplot( x=internet_years[\"Year\"], y=internet_years[\"Internet_Users_Pct\"] )"
   ]
  },
  {
   "cell_type": "markdown",
   "id": "f95a07a4",
   "metadata": {},
   "source": [
    "Question 19\n",
    "For how many countries was the percentage of internet users below 5% in 2014?"
   ]
  },
  {
   "cell_type": "code",
   "execution_count": null,
   "id": "ec4a3355",
   "metadata": {},
   "outputs": [],
   "source": [
    "internet_below = internet_df.loc[(internet_df['Year'] == 2014) & (internet_df['Internet_Users_Pct'] < 5)]\n",
    "internet_below.count()"
   ]
  },
  {
   "cell_type": "markdown",
   "id": "5760e88f",
   "metadata": {},
   "source": [
    "Question 20\n",
    "Merge the two DataFrames to one. Do this in a way that keeps **all rows** from each of the two DataFrames. Call the new DataFrame `gdp_and_internet_use`. Look at the first and last few rows to confirm that it merged correctly."
   ]
  },
  {
   "cell_type": "code",
   "execution_count": null,
   "id": "786fc813",
   "metadata": {},
   "outputs": [],
   "source": [
    "gdp_and_internet_use = pd.merge(gdp_df, internet_df, left_on= ['Country','Year'], right_on= ['Country','Year'], how= 'outer')\n",
    "gdp_and_internet_use"
   ]
  },
  {
   "cell_type": "markdown",
   "id": "402217d1",
   "metadata": {},
   "source": [
    "Question 21\n",
    "Find the three countries with the highest internet users percentage in 2014. Use a seaborn FacetGrid (https://seaborn.pydata.org/generated/seaborn.FacetGrid.html) to compare how the GDP per capita has changed over time for these three countries. What do you notice?"
   ]
  },
  {
   "cell_type": "code",
   "execution_count": null,
   "id": "ba0c1349",
   "metadata": {
    "scrolled": true
   },
   "outputs": [],
   "source": [
    "top_3 = gdp_and_internet_use.loc[gdp_and_internet_use['Year']==2014]\n",
    "top_3 = top_3.sort_values(by='Internet_Users_Pct', ascending=False).head(3)\n",
    "#top_3 = top_3.nlargest(3, 'Internet_Users_Pct')\n",
    "top_3"
   ]
  },
  {
   "cell_type": "code",
   "execution_count": null,
   "id": "03685404",
   "metadata": {},
   "outputs": [],
   "source": [
    "gdp_top_3 = gdp_and_internet_use.loc[gdp_and_internet_use['Country'].isin(['Iceland','Bermuda', 'Norway'])]\n",
    "gdp_top_3"
   ]
  },
  {
   "cell_type": "code",
   "execution_count": null,
   "id": "bce109ac",
   "metadata": {
    "scrolled": true
   },
   "outputs": [],
   "source": [
    "g = sns.FacetGrid(gdp_top_3, col=\"Country\", col_wrap=3)\n",
    "g.map(plt.plot, \"Year\", \"GDP_Per_Capita\")\n",
    "g.set_axis_labels(\"Year\", \"GDP-Per_Capita\")\n",
    "g.fig.suptitle(\"GDP Over Time for Iceland, Bermuda, and Norway\")\n",
    "plt.show()"
   ]
  },
  {
   "cell_type": "markdown",
   "id": "2291f5e2",
   "metadata": {},
   "source": [
    "Question 22\n",
    "Subset `gdp_and_internet_use` to just the year 2014. Save this as a new dataframe named `gdp_and_internet_use_2014`."
   ]
  },
  {
   "cell_type": "code",
   "execution_count": null,
   "id": "b8544b83",
   "metadata": {},
   "outputs": [],
   "source": [
    "gdp_and_internet_use_2014 = gdp_and_internet_use.loc[gdp_and_internet_use['Year']==2014]\n",
    "gdp_and_internet_use_2014"
   ]
  },
  {
   "cell_type": "markdown",
   "id": "ecbf6279",
   "metadata": {},
   "source": [
    "Question 23\n",
    "Create a plot which compares Internet Users Percentage and GDP per Capita for the year 2014. What do you notice from this plot? If you see any unusual points, investigate them."
   ]
  },
  {
   "cell_type": "code",
   "execution_count": null,
   "id": "08aa552c",
   "metadata": {},
   "outputs": [],
   "source": [
    "sns.scatterplot(data=gdp_and_internet_use_2014, x=\"Internet_Users_Pct\", y=\"GDP_Per_Capita\")\n",
    "plt.xlabel(\"Internet_Users_Pct\")\n",
    "plt.ylabel(\"GDP_Per_Capita\")\n",
    "plt.title(\"Internet Users Percentage and GDP per Capita (2014)\")"
   ]
  },
  {
   "cell_type": "code",
   "execution_count": null,
   "id": "9ea7c93b",
   "metadata": {},
   "outputs": [],
   "source": []
  }
 ],
 "metadata": {
  "kernelspec": {
   "display_name": "Python 3 (ipykernel)",
   "language": "python",
   "name": "python3"
  },
  "language_info": {
   "codemirror_mode": {
    "name": "ipython",
    "version": 3
   },
   "file_extension": ".py",
   "mimetype": "text/x-python",
   "name": "python",
   "nbconvert_exporter": "python",
   "pygments_lexer": "ipython3",
   "version": "3.10.9"
  }
 },
 "nbformat": 4,
 "nbformat_minor": 5
}
