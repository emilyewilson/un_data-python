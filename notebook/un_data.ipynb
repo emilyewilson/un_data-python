{
 "cells": [
  {
   "cell_type": "code",
   "execution_count": null,
   "id": "28a8118d",
   "metadata": {},
   "outputs": [],
   "source": [
    "import pandas as pd \n",
    "import numpy as np  \n",
    "import matplotlib.pyplot as plt  \n",
    "import seaborn as sns\n"
   ]
  },
  {
   "cell_type": "code",
   "execution_count": null,
   "id": "1ee702e4",
   "metadata": {
    "scrolled": true
   },
   "outputs": [],
   "source": [
    "gdp_df = pd.read_csv('../data/gdp_percapita.csv')\n",
    "gdp_df"
   ]
  },
  {
   "cell_type": "code",
   "execution_count": null,
   "id": "7cea6d8f",
   "metadata": {},
   "outputs": [],
   "source": [
    "gdp_df.shape"
   ]
  },
  {
   "cell_type": "code",
   "execution_count": null,
   "id": "b80ff4ca",
   "metadata": {
    "scrolled": false
   },
   "outputs": [],
   "source": [
    "datatypes = gdp_df.dtypes\n",
    "datatypes"
   ]
  },
  {
   "cell_type": "code",
   "execution_count": null,
   "id": "7b348152",
   "metadata": {},
   "outputs": [],
   "source": [
    "gdp_df = gdp_df.drop(columns = ['Value Footnotes'])\n",
    "gdp_df"
   ]
  },
  {
   "cell_type": "code",
   "execution_count": null,
   "id": "c2af3aaa",
   "metadata": {},
   "outputs": [],
   "source": [
    "gdp_df = gdp_df.rename(columns = {'Country or Area' : 'Country', \"Value\" : 'GDP_Per_Capita'})\n",
    "gdp_df"
   ]
  },
  {
   "cell_type": "code",
   "execution_count": null,
   "id": "6b386a1c",
   "metadata": {},
   "outputs": [],
   "source": [
    "gdp_countries = gdp_df.Country.value_counts()\n",
    "gdp_countries"
   ]
  },
  {
   "cell_type": "code",
   "execution_count": null,
   "id": "5c55c961",
   "metadata": {},
   "outputs": [],
   "source": [
    "type(gdp_countries)"
   ]
  },
  {
   "cell_type": "code",
   "execution_count": null,
   "id": "073c8e4c",
   "metadata": {},
   "outputs": [],
   "source": [
    "gdp_countries = gdp_countries.to_frame()"
   ]
  },
  {
   "cell_type": "code",
   "execution_count": null,
   "id": "8d3e329d",
   "metadata": {},
   "outputs": [],
   "source": [
    "type(gdp_countries)"
   ]
  },
  {
   "cell_type": "code",
   "execution_count": null,
   "id": "7fd54436",
   "metadata": {},
   "outputs": [],
   "source": [
    "gdp_countries = gdp_countries.reset_index()\n",
    "gdp_countries"
   ]
  },
  {
   "cell_type": "code",
   "execution_count": null,
   "id": "218c2365",
   "metadata": {},
   "outputs": [],
   "source": [
    "gdp_countries.columns = ['Country', 'Years']\n",
    "gdp_countries.head()"
   ]
  },
  {
   "cell_type": "code",
   "execution_count": null,
   "id": "3621c891",
   "metadata": {},
   "outputs": [],
   "source": [
    "gdp_countries.sort_values(by = 'Years', ascending = False)"
   ]
  },
  {
   "cell_type": "code",
   "execution_count": null,
   "id": "6ebd7895",
   "metadata": {},
   "outputs": [],
   "source": []
  }
 ],
 "metadata": {
  "kernelspec": {
   "display_name": "Python 3 (ipykernel)",
   "language": "python",
   "name": "python3"
  },
  "language_info": {
   "codemirror_mode": {
    "name": "ipython",
    "version": 3
   },
   "file_extension": ".py",
   "mimetype": "text/x-python",
   "name": "python",
   "nbconvert_exporter": "python",
   "pygments_lexer": "ipython3",
   "version": "3.10.9"
  }
 },
 "nbformat": 4,
 "nbformat_minor": 5
}
